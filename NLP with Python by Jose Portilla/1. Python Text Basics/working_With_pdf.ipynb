{
 "cells": [
  {
   "cell_type": "code",
   "execution_count": 1,
   "metadata": {},
   "outputs": [],
   "source": [
    "import PyPDF2"
   ]
  },
  {
   "cell_type": "code",
   "execution_count": 5,
   "metadata": {},
   "outputs": [],
   "source": [
    "f = open(\"Business_Proposal.pdf\", mode = \"rb\")\n"
   ]
  },
  {
   "cell_type": "code",
   "execution_count": 6,
   "metadata": {},
   "outputs": [],
   "source": [
    "pdf_reader = PyPDF2.PdfFileReader(f)"
   ]
  },
  {
   "cell_type": "code",
   "execution_count": 10,
   "metadata": {},
   "outputs": [
    {
     "data": {
      "text/plain": [
       "2"
      ]
     },
     "execution_count": 10,
     "metadata": {},
     "output_type": "execute_result"
    }
   ],
   "source": [
    "pdf_reader.numPages"
   ]
  },
  {
   "cell_type": "code",
   "execution_count": 11,
   "metadata": {},
   "outputs": [],
   "source": [
    "page_one = pdf_reader.getPage(0)"
   ]
  },
  {
   "cell_type": "code",
   "execution_count": 12,
   "metadata": {},
   "outputs": [
    {
     "data": {
      "text/plain": [
       "'Business Proposal\\n \\nThe Revolution is Coming\\n \\nLeverage agile frameworks to provide a robust synopsis for high level\\n \\noverviews. Iterative approaches to corporate strategy foster collaborative\\n \\nthinking to further the overall value proposition. Organically grow the\\n \\nholistic world view of disruptive innovation via workplace diversity and\\n \\nempowerment.\\n \\nBring to the table win\\n-\\nwin survival strategies to ensure proactive\\n \\ndomination. At the end of the day, going forward, a new normal that has\\n \\nevolved from generation X is on the runway heading towards a streamlined\\n \\ncloud solution. User generated content in real\\n-\\ntime will have multi\\nple\\n \\ntouchpoints for offshoring.\\n \\nCapitalize on low hanging fruit to identify a ballpark value added activity to\\n \\nbeta test. Override the digital divide with additional clickthroughs from\\n \\nDevOps. Nanotechnology immersion along the information highway will\\n \\nclo\\nse the loop on focusing solely on the bottom line.\\n \\nPodcasting operational change management inside of workflows to\\n \\nestablish a framework. Taking seamless key performance indicators offline\\n \\nto maximise the long tail. Keeping your eye on the ball while perfo\\nrming a\\n \\ndeep dive on the start\\n-\\nup mentality to derive convergence on crossplatform\\n \\nintegration.\\n \\nCollaboratively administrate empowered markets via plug\\n-\\nand\\n-\\nplay\\n \\nnetworks. Dynamically procrastinate B2C users after installed base\\n \\nbenefits. Dramatically visua\\nlize customer directed convergence without\\n \\nrevolutionary ROI.\\n \\nEfficiently unleash cross\\n-\\nmedia information without cross\\n-\\nmedia value.\\n \\nQuickly maximize timely deliverables for real\\n-\\ntime schemas. Dramatically\\n \\nmaintain clicks\\n-\\nand\\n-\\nmortar solutions without funct\\nional solutio\\nns.\\n \\n \\n \\n'"
      ]
     },
     "execution_count": 12,
     "metadata": {},
     "output_type": "execute_result"
    }
   ],
   "source": [
    "page_one.extractText()"
   ]
  },
  {
   "cell_type": "markdown",
   "metadata": {},
   "source": [
    "## Adding to pdfs"
   ]
  },
  {
   "cell_type": "code",
   "execution_count": 13,
   "metadata": {},
   "outputs": [],
   "source": [
    "f = open(\"Business_Proposal.pdf\",\"rb\")"
   ]
  },
  {
   "cell_type": "code",
   "execution_count": 14,
   "metadata": {},
   "outputs": [],
   "source": [
    "pdf_reader = PyPDF2.PdfFileReader(f)"
   ]
  },
  {
   "cell_type": "code",
   "execution_count": 15,
   "metadata": {},
   "outputs": [],
   "source": [
    "pdf_writer = PyPDF2.PdfFileWriter()"
   ]
  },
  {
   "cell_type": "code",
   "execution_count": 17,
   "metadata": {},
   "outputs": [],
   "source": [
    "pdf_writer.addPage(pdf_reader.getPage(0))"
   ]
  },
  {
   "cell_type": "code",
   "execution_count": 18,
   "metadata": {},
   "outputs": [],
   "source": [
    "output_file = open(\"new_file.pdf\",\"wb\")"
   ]
  },
  {
   "cell_type": "code",
   "execution_count": 19,
   "metadata": {},
   "outputs": [],
   "source": [
    "pdf_writer.write(output_file)"
   ]
  },
  {
   "cell_type": "code",
   "execution_count": 20,
   "metadata": {},
   "outputs": [],
   "source": [
    "f.close()"
   ]
  },
  {
   "cell_type": "code",
   "execution_count": null,
   "metadata": {},
   "outputs": [],
   "source": []
  }
 ],
 "metadata": {
  "kernelspec": {
   "display_name": "Python 3.8.8 ('base')",
   "language": "python",
   "name": "python3"
  },
  "language_info": {
   "codemirror_mode": {
    "name": "ipython",
    "version": 3
   },
   "file_extension": ".py",
   "mimetype": "text/x-python",
   "name": "python",
   "nbconvert_exporter": "python",
   "pygments_lexer": "ipython3",
   "version": "3.8.8"
  },
  "orig_nbformat": 4,
  "vscode": {
   "interpreter": {
    "hash": "d9d52e4e42d889ef44fdd960ad7523bff2f529da33eef29f47a98bbc470680c4"
   }
  }
 },
 "nbformat": 4,
 "nbformat_minor": 2
}
