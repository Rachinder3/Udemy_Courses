{
 "cells": [
  {
   "cell_type": "code",
   "execution_count": 1,
   "metadata": {},
   "outputs": [],
   "source": [
    "import numpy as np"
   ]
  },
  {
   "cell_type": "code",
   "execution_count": 2,
   "metadata": {},
   "outputs": [],
   "source": [
    "import cv2"
   ]
  },
  {
   "cell_type": "code",
   "execution_count": 4,
   "metadata": {},
   "outputs": [],
   "source": []
  },
  {
   "cell_type": "code",
   "execution_count": 7,
   "metadata": {},
   "outputs": [],
   "source": [
    "#### Function\n",
    "def draw_circle(event, x, y, flags, params):   ### event: automatically passed. x,y : current coordinates of the mouse\n",
    "    if event == cv2.EVENT_LBUTTONDOWN:  ### draw as soon as we clicked down\n",
    "        cv2.circle(img, (x,y), 100,(0,255,0), -1)\n",
    "\n",
    "\n",
    "### connect function to the callback\n",
    "\n",
    "cv2.namedWindow(winname=\"my_drawing\") # This names the window so we can reference it \n",
    "\n",
    "cv2.setMouseCallback('my_drawing',draw_circle) # Connects the mouse button to our callback function\n",
    "\n",
    "\n",
    "img = np.zeros((512,512,3), dtype = np.int8)  ## blank image\n",
    "\n",
    "while True:\n",
    "    cv2.imshow(\"my_drawing\", img)\n",
    "    \n",
    "    if cv2.waitKey(20) & 0xFF == 27:  ### my understanding of waitKet: like heartbeat\n",
    "        break\n",
    "cv2.destroyAllWindows()\n"
   ]
  },
  {
   "cell_type": "markdown",
   "metadata": {},
   "source": [
    "-----\n",
    "2. Adding functionality with event choices\n",
    "\n",
    "-------"
   ]
  },
  {
   "cell_type": "code",
   "execution_count": 4,
   "metadata": {},
   "outputs": [],
   "source": [
    "#### Function\n",
    "def draw_circle(event, x, y, flags, params):   ### event: automatically passed. x,y : current coordinates of the mouse\n",
    "    if event == cv2.EVENT_LBUTTONDOWN:  ### draw as soon as we clicked down\n",
    "        cv2.circle(img, (x,y), 100,(0,255,0), -1)\n",
    "\n",
    "    if event == cv2.EVENT_RBUTTONDOWN:\n",
    "        cv2.circle(img, (x,y), 100, (255,0,255),-1)\n",
    "\n",
    "### connect function to the callback\n",
    "\n",
    "cv2.namedWindow(winname=\"my_drawing\") # This names the window so we can reference it \n",
    "\n",
    "cv2.setMouseCallback('my_drawing',draw_circle) # Connects the mouse button to our callback function\n",
    "\n",
    "\n",
    "img = np.zeros((512,512,3), dtype = np.int8)  ## blank image\n",
    "\n",
    "while True:\n",
    "    cv2.imshow(\"my_drawing\", img)\n",
    "    \n",
    "    if cv2.waitKey(20) & 0xFF == 27:  ### my understanding of waitKet: like heartbeat\n",
    "        break\n",
    "cv2.destroyAllWindows()"
   ]
  },
  {
   "cell_type": "code",
   "execution_count": null,
   "metadata": {},
   "outputs": [],
   "source": []
  },
  {
   "cell_type": "markdown",
   "metadata": {},
   "source": [
    "----\n",
    "\n",
    "## dragging with mouse\n",
    "\n",
    "----\n"
   ]
  },
  {
   "cell_type": "code",
   "execution_count": 3,
   "metadata": {},
   "outputs": [],
   "source": [
    "import cv2\n",
    "import numpy as np\n",
    "\n",
    "\n",
    "\n",
    "#### variables\n",
    "\n",
    "drawing = False ## will be made true when we start the dragging. Will indicate if we are currently drawing or not\n",
    "# True if mouse is pressed\n",
    "\n",
    "ix,iy = -1,-1   \n",
    "\n",
    "\n",
    "\n",
    "\n",
    "### FUNCTION\n",
    "def draw_rectangle(event, x,y, flags, params):\n",
    "    global ix,iy,drawing\n",
    "    \n",
    "    ## first click\n",
    "    if event == cv2.EVENT_LBUTTONDOWN:\n",
    "        drawing = True\n",
    "        \n",
    "        ix,iy = x,y  ## taking note of current event\n",
    "        ## These track original mouse click location\n",
    "        \n",
    "        \n",
    "    ### dragging    \n",
    "    elif event == cv2.EVENT_MOUSEMOVE:\n",
    "        ### here we are just doing the animation of sorts\n",
    "        \n",
    "        if drawing == True:\n",
    "            cv2.rectangle(img, (ix,iy) , (x,y),(128,0,0), thickness=-1) \n",
    "        ## ix,iy: original mouse click  \n",
    "        ## x,y: current location\n",
    "        \n",
    "    \n",
    "    ### mouse button released    \n",
    "    elif event == cv2.EVENT_LBUTTONUP: \n",
    "        # Once you lift the mouse button, drawing is False\n",
    "        drawing = False\n",
    "        # we complete the rectangle.\n",
    "        cv2.rectangle(img, (ix,iy) , (x,y) ,(128,0,0), thickness=-1) \n",
    "        \n",
    "        \n",
    "\n",
    "\n",
    "\n",
    "\n",
    "### showing the image\n",
    "\n",
    "img = np.zeros((512,512,3))\n",
    "\n",
    "cv2.namedWindow(winname = \"my_drawing\")\n",
    "\n",
    "cv2.setMouseCallback(\"my_drawing\",draw_rectangle)\n",
    "\n",
    "\n",
    "\n",
    "while True:\n",
    "    cv2.imshow(\"my_drawing\", img)\n",
    "    \n",
    "    \n",
    "    if cv2.waitKey(1) & 0xFF == 27:\n",
    "        break\n",
    "cv2.destroyAllWindows()"
   ]
  },
  {
   "cell_type": "code",
   "execution_count": 3,
   "metadata": {},
   "outputs": [],
   "source": []
  },
  {
   "cell_type": "code",
   "execution_count": null,
   "metadata": {},
   "outputs": [],
   "source": []
  }
 ],
 "metadata": {
  "kernelspec": {
   "display_name": "Python 3.8.8 ('base')",
   "language": "python",
   "name": "python3"
  },
  "language_info": {
   "codemirror_mode": {
    "name": "ipython",
    "version": 3
   },
   "file_extension": ".py",
   "mimetype": "text/x-python",
   "name": "python",
   "nbconvert_exporter": "python",
   "pygments_lexer": "ipython3",
   "version": "3.8.8"
  },
  "orig_nbformat": 4,
  "vscode": {
   "interpreter": {
    "hash": "d9d52e4e42d889ef44fdd960ad7523bff2f529da33eef29f47a98bbc470680c4"
   }
  }
 },
 "nbformat": 4,
 "nbformat_minor": 2
}
